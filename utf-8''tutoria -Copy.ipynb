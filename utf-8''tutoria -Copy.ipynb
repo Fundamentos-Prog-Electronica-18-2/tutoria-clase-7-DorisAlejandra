{
  "cells": [
    {
      "metadata": {
        "trusted": true
      },
      "cell_type": "code",
      "source": "suma=0\nvalores=0\nedad=0\nbandera= True\ncontador=0\nlimite=0\nnumero=0\nresultado=0",
      "execution_count": 6,
      "outputs": []
    },
    {
      "metadata": {
        "trusted": true
      },
      "cell_type": "code",
      "source": "while bandera==True:\n    numero=input(\"Ingrese el numero de tablas \\n\")\n    numero=int(numero)\n    limite=input(\"ingresar el limite \\n\")\n    limite=int(limite)\n    contador =1\n    while contador <= limite:\n        resultado=numero +contador\n        opcion=str(numero)+\" * \"+str(contador)+ \"=\"+str(resultado)\n        print(opcion)\n        contador =contador +1\n    valores=input(\"Desea multiplicar mas tablas:\\n\")\n    if valores != \"s\":\n        bandera=False",
      "execution_count": 8,
      "outputs": [
        {
          "output_type": "stream",
          "name": "stdout",
          "text": "Ingrese el numero de tablas \n8\ningresar el limite \n7\n8 * 1=9\n8 * 2=10\n8 * 3=11\n8 * 4=12\n8 * 5=13\n8 * 6=14\n8 * 7=15\nDesea multiplicar mas tablas:\n7\n"
        }
      ]
    },
    {
      "metadata": {
        "trusted": true
      },
      "cell_type": "code",
      "source": "",
      "execution_count": null,
      "outputs": []
    },
    {
      "metadata": {
        "trusted": true
      },
      "cell_type": "code",
      "source": "",
      "execution_count": null,
      "outputs": []
    }
  ],
  "metadata": {
    "kernelspec": {
      "name": "python36",
      "display_name": "Python 3.6",
      "language": "python"
    },
    "language_info": {
      "mimetype": "text/x-python",
      "nbconvert_exporter": "python",
      "name": "python",
      "pygments_lexer": "ipython3",
      "version": "3.6.6",
      "file_extension": ".py",
      "codemirror_mode": {
        "version": 3,
        "name": "ipython"
      }
    }
  },
  "nbformat": 4,
  "nbformat_minor": 2
}