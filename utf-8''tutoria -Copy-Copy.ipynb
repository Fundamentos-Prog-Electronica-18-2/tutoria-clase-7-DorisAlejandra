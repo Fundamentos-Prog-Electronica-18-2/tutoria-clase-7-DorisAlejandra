{
  "cells": [
    {
      "metadata": {
        "trusted": true
      },
      "cell_type": "code",
      "source": "suma=0\nedad=0\nbandera= True\ncontador=0\nvalores=0\nresultado=0",
      "execution_count": 1,
      "outputs": []
    },
    {
      "metadata": {
        "trusted": true
      },
      "cell_type": "code",
      "source": "while bandera==True:\n    edad=input(\"Ingrese la edad del estudiante \\n\")\n    edad=int(edad)\n    suma=suma+edad\n    contador = contador +1\n    valores= input(\"desea seguir, ingrese  s para continuar \\n\")\n    if valores == \"s\":\n        bandera =True\n    else:\n        bandera=False\n    print(suma)\n    resultado=suma/contador\n    print(resultado)",
      "execution_count": null,
      "outputs": [
        {
          "output_type": "stream",
          "name": "stdout",
          "text": "Ingrese la edad del estudiante \n6\ndesea seguir, ingrese  s para continuar \ns\n14\n7.0\n"
        }
      ]
    },
    {
      "metadata": {
        "trusted": true
      },
      "cell_type": "code",
      "source": "",
      "execution_count": null,
      "outputs": []
    },
    {
      "metadata": {
        "trusted": true
      },
      "cell_type": "code",
      "source": "",
      "execution_count": null,
      "outputs": []
    }
  ],
  "metadata": {
    "kernelspec": {
      "name": "python36",
      "display_name": "Python 3.6",
      "language": "python"
    },
    "language_info": {
      "mimetype": "text/x-python",
      "nbconvert_exporter": "python",
      "name": "python",
      "pygments_lexer": "ipython3",
      "version": "3.6.6",
      "file_extension": ".py",
      "codemirror_mode": {
        "version": 3,
        "name": "ipython"
      }
    }
  },
  "nbformat": 4,
  "nbformat_minor": 2
}